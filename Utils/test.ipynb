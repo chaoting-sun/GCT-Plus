{
 "cells": [
  {
   "cell_type": "code",
   "execution_count": 1,
   "metadata": {},
   "outputs": [],
   "source": [
    "from rdkit import Chem"
   ]
  },
  {
   "cell_type": "code",
   "execution_count": 2,
   "metadata": {},
   "outputs": [],
   "source": [
    "def is_substructure(subst, smiles):\n",
    "    mol = Chem.MolFromSmiles(smiles)\n",
    "    subst_mol = Chem.MolFromSmiles(subst)\n",
    "    return mol.HasSubstructMatch(subst_mol)"
   ]
  },
  {
   "cell_type": "code",
   "execution_count": 3,
   "metadata": {},
   "outputs": [
    {
     "data": {
      "text/plain": [
       "True"
      ]
     },
     "execution_count": 3,
     "metadata": {},
     "output_type": "execute_result"
    }
   ],
   "source": [
    "smiles = 'OC(Cn1cncn1)(Cn1cncn1)c1ccc(F)cc1F'\n",
    "subst = 'c1ccc(C(Cn2cncn2)Cn2cncn2)cc1'\n",
    "\n",
    "is_substructure(subst, smiles)"
   ]
  },
  {
   "cell_type": "code",
   "execution_count": 4,
   "metadata": {},
   "outputs": [],
   "source": [
    "from rdkit import Chem\n",
    "from rdkit.DataStructs.cDataStructs import TanimotoSimilarity\n",
    "from rdkit.Chem.rdMolDescriptors import GetMorganFingerprintAsBitVect"
   ]
  },
  {
   "cell_type": "code",
   "execution_count": 5,
   "metadata": {},
   "outputs": [],
   "source": [
    "def to_fp_ECFP(smi):\n",
    "    if smi:\n",
    "        mol = Chem.MolFromSmiles(smi)\n",
    "        if mol is None:\n",
    "            return None\n",
    "        return GetMorganFingerprintAsBitVect(mol, 2, 1024)\n",
    "    \n",
    "def tanimoto_similarity(smi1, smi2):\n",
    "    fp1, fp2 = None, None\n",
    "    if smi1 and type(smi1)==str and len(smi1)>0:\n",
    "        fp1 = to_fp_ECFP(smi1)\n",
    "    if smi2 and type(smi2)==str and len(smi2)>0:\n",
    "        fp2 = to_fp_ECFP(smi2)\n",
    "\n",
    "    if fp1 is not None and fp2 is not None:\n",
    "        return TanimotoSimilarity(fp1, fp2)\n",
    "    else:\n",
    "        return None"
   ]
  },
  {
   "cell_type": "code",
   "execution_count": 6,
   "metadata": {},
   "outputs": [
    {
     "data": {
      "text/plain": [
       "0.0847457627118644"
      ]
     },
     "execution_count": 6,
     "metadata": {},
     "output_type": "execute_result"
    }
   ],
   "source": [
    "smi1 = 'Oc1c(Br)cc(Br)c2cccnc12'\n",
    "smi2 = 'CCOCC(=O)Nc1ccc2ccc(=O)n(C)c2n1'\n",
    "\n",
    "tanimoto_similarity(smi1,smi2)"
   ]
  },
  {
   "cell_type": "code",
   "execution_count": null,
   "metadata": {},
   "outputs": [],
   "source": []
  }
 ],
 "metadata": {
  "kernelspec": {
   "display_name": "py385",
   "language": "python",
   "name": "python3"
  },
  "language_info": {
   "codemirror_mode": {
    "name": "ipython",
    "version": 3
   },
   "file_extension": ".py",
   "mimetype": "text/x-python",
   "name": "python",
   "nbconvert_exporter": "python",
   "pygments_lexer": "ipython3",
   "version": "3.8.5"
  },
  "orig_nbformat": 4
 },
 "nbformat": 4,
 "nbformat_minor": 2
}
