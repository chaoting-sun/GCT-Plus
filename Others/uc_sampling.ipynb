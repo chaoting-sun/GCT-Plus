{
 "cells": [
  {
   "cell_type": "code",
   "execution_count": 38,
   "metadata": {},
   "outputs": [],
   "source": [
    "import os\n",
    "import pandas as pd\n",
    "import numpy as np\n",
    "from collections import OrderedDict\n",
    "from pathos.multiprocessing import ProcessingPool as Pool\n",
    "from rdkit import Chem\n",
    "from rdkit.Chem.Scaffolds.MurckoScaffold import MurckoScaffoldSmiles\n",
    "from rdkit.Chem.rdMolDescriptors import CalcNumHBA, CalcNumHBD, CalcNumRotatableBonds\n",
    "from rdkit.Chem import Descriptors"
   ]
  },
  {
   "cell_type": "code",
   "execution_count": null,
   "metadata": {},
   "outputs": [],
   "source": []
  },
  {
   "cell_type": "code",
   "execution_count": 1,
   "metadata": {},
   "outputs": [],
   "source": [
    "file_folder = '/fileserver-gamma/chaoting/ML/cvae-transformer/Inference-Dataset/moses/uc-sampling/'\n",
    "\n",
    "file_prefix1 = 'vaetf1_-37'\n",
    "file_prefix2 = 'vaetf2_-38'\n",
    "file_prefix3 = 'vaetf3_-37'"
   ]
  },
  {
   "cell_type": "code",
   "execution_count": 22,
   "metadata": {},
   "outputs": [],
   "source": [
    "train = pd.read_csv('/fileserver-gamma/chaoting/ML/dataset/moses/raw/train.csv', index_col=[0])"
   ]
  },
  {
   "cell_type": "code",
   "execution_count": 6,
   "metadata": {},
   "outputs": [],
   "source": [
    "df1 = pd.read_csv(os.path.join(file_folder, f'{file_prefix1}_prop.csv'), index_col=[0])\n",
    "df2 = pd.read_csv(os.path.join(file_folder, f'{file_prefix2}_prop.csv'), index_col=[0])\n",
    "df3 = pd.read_csv(os.path.join(file_folder, f'{file_prefix3}_prop.csv'), index_col=[0])"
   ]
  },
  {
   "cell_type": "code",
   "execution_count": 15,
   "metadata": {},
   "outputs": [],
   "source": [
    "def murcko_scaffold(smi):\n",
    "    try:\n",
    "        return MurckoScaffoldSmiles(smiles=smi)\n",
    "    except:\n",
    "        return None"
   ]
  },
  {
   "cell_type": "code",
   "execution_count": 19,
   "metadata": {},
   "outputs": [],
   "source": [
    "with Pool(4) as pool:\n",
    "    ms1 = pool.map(murcko_scaffold, df1['SMILES'])\n",
    "with Pool(4) as pool:\n",
    "    ms2 = pool.map(murcko_scaffold, df2['SMILES'])\n",
    "with Pool(4) as pool:\n",
    "    ms3 = pool.map(murcko_scaffold, df3['SMILES'])"
   ]
  },
  {
   "cell_type": "code",
   "execution_count": 27,
   "metadata": {},
   "outputs": [],
   "source": [
    "tms = set(train['scaffold'])\n",
    "tms = {i for i in tms if pd.notna(i)}\n",
    "\n",
    "ms1 = set(ms1)\n",
    "ms2 = set(ms2)\n",
    "ms3 = set(ms3)"
   ]
  },
  {
   "cell_type": "code",
   "execution_count": 29,
   "metadata": {},
   "outputs": [
    {
     "name": "stdout",
     "output_type": "stream",
     "text": [
      "# murcko scaffold (train): 376593\n",
      "# murcko scaffold (gen1): 19852\n",
      "# murcko scaffold (gen2): 20014\n",
      "# murcko scaffold (gen3): 19936\n"
     ]
    }
   ],
   "source": [
    "print('# scaffold (train):', len(tms))\n",
    "print('# scaffold (gen1):', len(ms1))\n",
    "print('# scaffold (gen2):', len(ms2))\n",
    "print('# scaffold (gen3):', len(ms3))"
   ]
  },
  {
   "cell_type": "code",
   "execution_count": 32,
   "metadata": {},
   "outputs": [
    {
     "name": "stdout",
     "output_type": "stream",
     "text": [
      "# new scaffold (gen1): 8145\n",
      "# new scaffold (gen1): 8154\n",
      "# new scaffold (gen1): 8220\n"
     ]
    }
   ],
   "source": [
    "print('# new scaffold (gen1):', len(ms1 - tms))\n",
    "print('# new scaffold (gen1):', len(ms2 - tms))\n",
    "print('# new scaffold (gen1):', len(ms3 - tms))"
   ]
  },
  {
   "cell_type": "code",
   "execution_count": 36,
   "metadata": {},
   "outputs": [],
   "source": [
    "def MW(mol):\n",
    "    return Descriptors.MolWt(mol)\n",
    "\n",
    "def BertzCT(mol):\n",
    "    return Chem.GraphDescriptors.BertzCT(mol)\n",
    "\n",
    "def HBD(mol):\n",
    "    return CalcNumHBD(mol)\n",
    "\n",
    "def HBA(mol):\n",
    "    return CalcNumHBA(mol)\n",
    "\n",
    "def RBN(mol):\n",
    "    return CalcNumRotatableBonds(mol)\n",
    "\n",
    "def logP(mol):\n",
    "    return Descriptors.MolLogP(mol)\n",
    "\n",
    "def tPSA(mol):\n",
    "    return Descriptors.TPSA(mol)\n",
    "\n",
    "property_fn = {\n",
    "    'MW'     : MW,\n",
    "    'BertzCT': BertzCT,\n",
    "    'HBD'    : HBD,\n",
    "    'HBA'    : HBA,\n",
    "    'RBN'    : RBN,\n",
    "    'logP'   : logP,\n",
    "    'tPSA'   : tPSA,\n",
    "}"
   ]
  },
  {
   "cell_type": "code",
   "execution_count": 39,
   "metadata": {},
   "outputs": [],
   "source": [
    "def get_mol(smi_or_mol):\n",
    "    \"\"\"convert smiles to mol. (copied from molgpt)\n",
    "    \"\"\"\n",
    "    if isinstance(smi_or_mol, str):\n",
    "        if len(smi_or_mol) == 0:\n",
    "            return None\n",
    "        mol = Chem.MolFromSmiles(smi_or_mol)\n",
    "        if mol is None:\n",
    "            return None\n",
    "        try:\n",
    "            Chem.SanitizeMol(mol)\n",
    "        except ValueError:\n",
    "            return None\n",
    "        return mol\n",
    "    return smi_or_mol\n",
    "\n",
    "def mapper(fn, obj, n_jobs):\n",
    "    if n_jobs == 1:\n",
    "        res = list(map(fn, obj))\n",
    "    else:\n",
    "        with Pool(n_jobs) as pool:\n",
    "            res = pool.map(fn, obj)\n",
    "    return res\n",
    "\n",
    "def mols_to_props(mols, property_fns, n_jobs=1,\n",
    "                  col_names=None):\n",
    "    props = OrderedDict()\n",
    "    for i, (p, fn) in enumerate(property_fns.items()):\n",
    "        name = p if col_names is None else col_names[i]\n",
    "        with Pool(n_jobs) as pool:\n",
    "            print('property fn:', fn.__name__)\n",
    "            props[name] = list(pool.map(fn, mols))\n",
    "    return pd.DataFrame(props)"
   ]
  },
  {
   "cell_type": "code",
   "execution_count": 41,
   "metadata": {},
   "outputs": [
    {
     "name": "stdout",
     "output_type": "stream",
     "text": [
      "property fn: MW\n"
     ]
    },
    {
     "ename": "KeyboardInterrupt",
     "evalue": "",
     "output_type": "error",
     "traceback": [
      "\u001b[0;31m---------------------------------------------------------------------------\u001b[0m",
      "\u001b[0;31mKeyboardInterrupt\u001b[0m                         Traceback (most recent call last)",
      "\u001b[1;32m/home/chaoting/ML/cvae-transformer/Others/uc_sampling.ipynb Cell 13\u001b[0m in \u001b[0;36m4\n\u001b[1;32m      <a href='vscode-notebook-cell://ssh-remote%2Blab-aiml-jump/home/chaoting/ML/cvae-transformer/Others/uc_sampling.ipynb#X15sdnNjb2RlLXJlbW90ZQ%3D%3D?line=0'>1</a>\u001b[0m n_jobs \u001b[39m=\u001b[39m \u001b[39m16\u001b[39m\n\u001b[1;32m      <a href='vscode-notebook-cell://ssh-remote%2Blab-aiml-jump/home/chaoting/ML/cvae-transformer/Others/uc_sampling.ipynb#X15sdnNjb2RlLXJlbW90ZQ%3D%3D?line=2'>3</a>\u001b[0m tms_mol \u001b[39m=\u001b[39m mapper(get_mol, \u001b[39mlist\u001b[39m(tms), n_jobs)\n\u001b[0;32m----> <a href='vscode-notebook-cell://ssh-remote%2Blab-aiml-jump/home/chaoting/ML/cvae-transformer/Others/uc_sampling.ipynb#X15sdnNjb2RlLXJlbW90ZQ%3D%3D?line=3'>4</a>\u001b[0m props \u001b[39m=\u001b[39m mols_to_props(tms_mol, property_fn, n_jobs)\n",
      "\u001b[1;32m/home/chaoting/ML/cvae-transformer/Others/uc_sampling.ipynb Cell 13\u001b[0m in \u001b[0;36m3\n\u001b[1;32m     <a href='vscode-notebook-cell://ssh-remote%2Blab-aiml-jump/home/chaoting/ML/cvae-transformer/Others/uc_sampling.ipynb#X15sdnNjb2RlLXJlbW90ZQ%3D%3D?line=28'>29</a>\u001b[0m     \u001b[39mwith\u001b[39;00m Pool(n_jobs) \u001b[39mas\u001b[39;00m pool:\n\u001b[1;32m     <a href='vscode-notebook-cell://ssh-remote%2Blab-aiml-jump/home/chaoting/ML/cvae-transformer/Others/uc_sampling.ipynb#X15sdnNjb2RlLXJlbW90ZQ%3D%3D?line=29'>30</a>\u001b[0m         \u001b[39mprint\u001b[39m(\u001b[39m'\u001b[39m\u001b[39mproperty fn:\u001b[39m\u001b[39m'\u001b[39m, fn\u001b[39m.\u001b[39m\u001b[39m__name__\u001b[39m)\n\u001b[0;32m---> <a href='vscode-notebook-cell://ssh-remote%2Blab-aiml-jump/home/chaoting/ML/cvae-transformer/Others/uc_sampling.ipynb#X15sdnNjb2RlLXJlbW90ZQ%3D%3D?line=30'>31</a>\u001b[0m         props[name] \u001b[39m=\u001b[39m \u001b[39mlist\u001b[39m(pool\u001b[39m.\u001b[39;49mmap(fn, mols))\n\u001b[1;32m     <a href='vscode-notebook-cell://ssh-remote%2Blab-aiml-jump/home/chaoting/ML/cvae-transformer/Others/uc_sampling.ipynb#X15sdnNjb2RlLXJlbW90ZQ%3D%3D?line=31'>32</a>\u001b[0m \u001b[39mreturn\u001b[39;00m pd\u001b[39m.\u001b[39mDataFrame(props)\n",
      "File \u001b[0;32m~/software/miniconda3/envs/py385/lib/python3.8/site-packages/pathos/multiprocessing.py:135\u001b[0m, in \u001b[0;36mProcessPool.map\u001b[0;34m(self, f, *args, **kwds)\u001b[0m\n\u001b[1;32m    133\u001b[0m AbstractWorkerPool\u001b[39m.\u001b[39m_AbstractWorkerPool__map(\u001b[39mself\u001b[39m, f, \u001b[39m*\u001b[39margs, \u001b[39m*\u001b[39m\u001b[39m*\u001b[39mkwds)\n\u001b[1;32m    134\u001b[0m _pool \u001b[39m=\u001b[39m \u001b[39mself\u001b[39m\u001b[39m.\u001b[39m_serve()\n\u001b[0;32m--> 135\u001b[0m \u001b[39mreturn\u001b[39;00m _pool\u001b[39m.\u001b[39;49mmap(star(f), \u001b[39mzip\u001b[39;49m(\u001b[39m*\u001b[39;49margs))\n",
      "File \u001b[0;32m~/software/miniconda3/envs/py385/lib/python3.8/site-packages/multiprocess/pool.py:364\u001b[0m, in \u001b[0;36mPool.map\u001b[0;34m(self, func, iterable, chunksize)\u001b[0m\n\u001b[1;32m    359\u001b[0m \u001b[39mdef\u001b[39;00m \u001b[39mmap\u001b[39m(\u001b[39mself\u001b[39m, func, iterable, chunksize\u001b[39m=\u001b[39m\u001b[39mNone\u001b[39;00m):\n\u001b[1;32m    360\u001b[0m     \u001b[39m'''\u001b[39;00m\n\u001b[1;32m    361\u001b[0m \u001b[39m    Apply `func` to each element in `iterable`, collecting the results\u001b[39;00m\n\u001b[1;32m    362\u001b[0m \u001b[39m    in a list that is returned.\u001b[39;00m\n\u001b[1;32m    363\u001b[0m \u001b[39m    '''\u001b[39;00m\n\u001b[0;32m--> 364\u001b[0m     \u001b[39mreturn\u001b[39;00m \u001b[39mself\u001b[39;49m\u001b[39m.\u001b[39;49m_map_async(func, iterable, mapstar, chunksize)\u001b[39m.\u001b[39;49mget()\n",
      "File \u001b[0;32m~/software/miniconda3/envs/py385/lib/python3.8/site-packages/multiprocess/pool.py:765\u001b[0m, in \u001b[0;36mApplyResult.get\u001b[0;34m(self, timeout)\u001b[0m\n\u001b[1;32m    764\u001b[0m \u001b[39mdef\u001b[39;00m \u001b[39mget\u001b[39m(\u001b[39mself\u001b[39m, timeout\u001b[39m=\u001b[39m\u001b[39mNone\u001b[39;00m):\n\u001b[0;32m--> 765\u001b[0m     \u001b[39mself\u001b[39;49m\u001b[39m.\u001b[39;49mwait(timeout)\n\u001b[1;32m    766\u001b[0m     \u001b[39mif\u001b[39;00m \u001b[39mnot\u001b[39;00m \u001b[39mself\u001b[39m\u001b[39m.\u001b[39mready():\n\u001b[1;32m    767\u001b[0m         \u001b[39mraise\u001b[39;00m \u001b[39mTimeoutError\u001b[39;00m\n",
      "File \u001b[0;32m~/software/miniconda3/envs/py385/lib/python3.8/site-packages/multiprocess/pool.py:762\u001b[0m, in \u001b[0;36mApplyResult.wait\u001b[0;34m(self, timeout)\u001b[0m\n\u001b[1;32m    761\u001b[0m \u001b[39mdef\u001b[39;00m \u001b[39mwait\u001b[39m(\u001b[39mself\u001b[39m, timeout\u001b[39m=\u001b[39m\u001b[39mNone\u001b[39;00m):\n\u001b[0;32m--> 762\u001b[0m     \u001b[39mself\u001b[39;49m\u001b[39m.\u001b[39;49m_event\u001b[39m.\u001b[39;49mwait(timeout)\n",
      "File \u001b[0;32m~/software/miniconda3/envs/py385/lib/python3.8/threading.py:558\u001b[0m, in \u001b[0;36mEvent.wait\u001b[0;34m(self, timeout)\u001b[0m\n\u001b[1;32m    556\u001b[0m signaled \u001b[39m=\u001b[39m \u001b[39mself\u001b[39m\u001b[39m.\u001b[39m_flag\n\u001b[1;32m    557\u001b[0m \u001b[39mif\u001b[39;00m \u001b[39mnot\u001b[39;00m signaled:\n\u001b[0;32m--> 558\u001b[0m     signaled \u001b[39m=\u001b[39m \u001b[39mself\u001b[39;49m\u001b[39m.\u001b[39;49m_cond\u001b[39m.\u001b[39;49mwait(timeout)\n\u001b[1;32m    559\u001b[0m \u001b[39mreturn\u001b[39;00m signaled\n",
      "File \u001b[0;32m~/software/miniconda3/envs/py385/lib/python3.8/threading.py:302\u001b[0m, in \u001b[0;36mCondition.wait\u001b[0;34m(self, timeout)\u001b[0m\n\u001b[1;32m    300\u001b[0m \u001b[39mtry\u001b[39;00m:    \u001b[39m# restore state no matter what (e.g., KeyboardInterrupt)\u001b[39;00m\n\u001b[1;32m    301\u001b[0m     \u001b[39mif\u001b[39;00m timeout \u001b[39mis\u001b[39;00m \u001b[39mNone\u001b[39;00m:\n\u001b[0;32m--> 302\u001b[0m         waiter\u001b[39m.\u001b[39;49macquire()\n\u001b[1;32m    303\u001b[0m         gotit \u001b[39m=\u001b[39m \u001b[39mTrue\u001b[39;00m\n\u001b[1;32m    304\u001b[0m     \u001b[39melse\u001b[39;00m:\n",
      "\u001b[0;31mKeyboardInterrupt\u001b[0m: "
     ]
    }
   ],
   "source": [
    "n_jobs = 16\n",
    "\n",
    "tms_mol = mapper(get_mol, list(tms)[:1000], n_jobs)\n",
    "props = mols_to_props(tms_mol, property_fn, n_jobs)"
   ]
  },
  {
   "cell_type": "code",
   "execution_count": null,
   "metadata": {},
   "outputs": [],
   "source": []
  },
  {
   "cell_type": "code",
   "execution_count": null,
   "metadata": {},
   "outputs": [],
   "source": []
  }
 ],
 "metadata": {
  "kernelspec": {
   "display_name": "py385",
   "language": "python",
   "name": "python3"
  },
  "language_info": {
   "codemirror_mode": {
    "name": "ipython",
    "version": 3
   },
   "file_extension": ".py",
   "mimetype": "text/x-python",
   "name": "python",
   "nbconvert_exporter": "python",
   "pygments_lexer": "ipython3",
   "version": "3.8.5"
  },
  "orig_nbformat": 4
 },
 "nbformat": 4,
 "nbformat_minor": 2
}
