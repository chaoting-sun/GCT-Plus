{
 "cells": [
  {
   "cell_type": "code",
   "execution_count": 1,
   "metadata": {},
   "outputs": [
    {
     "data": {
      "application/3dmoljs_load.v0": "<div id=\"3dmolviewer_16842108354335408\"  style=\"position: relative; width: 200px; height: 200px;\">\n        <p id=\"3dmolwarning_16842108354335408\" style=\"background-color:#ffcccc;color:black\">You appear to be running in JupyterLab (or JavaScript failed to load for some other reason).  You need to install the 3dmol extension: <br>\n        <tt>jupyter labextension install jupyterlab_3dmol</tt></p>\n        </div>\n<script>\n\nvar loadScriptAsync = function(uri){\n  return new Promise((resolve, reject) => {\n    //this is to ignore the existence of requirejs amd\n    var savedexports, savedmodule;\n    if (typeof exports !== 'undefined') savedexports = exports;\n    else exports = {}\n    if (typeof module !== 'undefined') savedmodule = module;\n    else module = {}\n\n    var tag = document.createElement('script');\n    tag.src = uri;\n    tag.async = true;\n    tag.onload = () => {\n        exports = savedexports;\n        module = savedmodule;\n        resolve();\n    };\n  var firstScriptTag = document.getElementsByTagName('script')[0];\n  firstScriptTag.parentNode.insertBefore(tag, firstScriptTag);\n});\n};\n\nif(typeof $3Dmolpromise === 'undefined') {\n$3Dmolpromise = null;\n  $3Dmolpromise = loadScriptAsync('https://cdnjs.cloudflare.com/ajax/libs/3Dmol/2.0.3/3Dmol-min.js');\n}\n\nvar viewer_16842108354335408 = null;\nvar warn = document.getElementById(\"3dmolwarning_16842108354335408\");\nif(warn) {\n    warn.parentNode.removeChild(warn);\n}\n$3Dmolpromise.then(function() {\nviewer_16842108354335408 = $3Dmol.createViewer(document.getElementById(\"3dmolviewer_16842108354335408\"),{backgroundColor:\"white\"});\nviewer_16842108354335408.zoomTo();\n\tviewer_16842108354335408.addModel(\"\\n     RDKit          3D\\n\\n  8  7  0  0  0  0  0  0  0  0999 V2000\\n   -0.7558    0.0071   -0.0160 C   0  0  0  0  0  0  0  0  0  0  0  0\\n    0.7558   -0.0071    0.0160 C   0  0  0  0  0  0  0  0  0  0  0  0\\n   -1.1627   -0.1018    0.9937 H   0  0  0  0  0  0  0  0  0  0  0  0\\n   -1.1225    0.9487   -0.4356 H   0  0  0  0  0  0  0  0  0  0  0  0\\n   -1.1350   -0.8147   -0.6307 H   0  0  0  0  0  0  0  0  0  0  0  0\\n    1.1350    0.8148    0.6307 H   0  0  0  0  0  0  0  0  0  0  0  0\\n    1.1627    0.1018   -0.9937 H   0  0  0  0  0  0  0  0  0  0  0  0\\n    1.1226   -0.9487    0.4356 H   0  0  0  0  0  0  0  0  0  0  0  0\\n  1  2  1  0\\n  1  3  1  0\\n  1  4  1  0\\n  1  5  1  0\\n  2  6  1  0\\n  2  7  1  0\\n  2  8  1  0\\nM  END\\n\",\"mol\");\n\tviewer_16842108354335408.setStyle({\"stick\": {}});\n\tviewer_16842108354335408.zoomTo();\nviewer_16842108354335408.render();\n});\n</script>",
      "text/html": [
       "<div id=\"3dmolviewer_16842108354335408\"  style=\"position: relative; width: 200px; height: 200px;\">\n",
       "        <p id=\"3dmolwarning_16842108354335408\" style=\"background-color:#ffcccc;color:black\">You appear to be running in JupyterLab (or JavaScript failed to load for some other reason).  You need to install the 3dmol extension: <br>\n",
       "        <tt>jupyter labextension install jupyterlab_3dmol</tt></p>\n",
       "        </div>\n",
       "<script>\n",
       "\n",
       "var loadScriptAsync = function(uri){\n",
       "  return new Promise((resolve, reject) => {\n",
       "    //this is to ignore the existence of requirejs amd\n",
       "    var savedexports, savedmodule;\n",
       "    if (typeof exports !== 'undefined') savedexports = exports;\n",
       "    else exports = {}\n",
       "    if (typeof module !== 'undefined') savedmodule = module;\n",
       "    else module = {}\n",
       "\n",
       "    var tag = document.createElement('script');\n",
       "    tag.src = uri;\n",
       "    tag.async = true;\n",
       "    tag.onload = () => {\n",
       "        exports = savedexports;\n",
       "        module = savedmodule;\n",
       "        resolve();\n",
       "    };\n",
       "  var firstScriptTag = document.getElementsByTagName('script')[0];\n",
       "  firstScriptTag.parentNode.insertBefore(tag, firstScriptTag);\n",
       "});\n",
       "};\n",
       "\n",
       "if(typeof $3Dmolpromise === 'undefined') {\n",
       "$3Dmolpromise = null;\n",
       "  $3Dmolpromise = loadScriptAsync('https://cdnjs.cloudflare.com/ajax/libs/3Dmol/2.0.3/3Dmol-min.js');\n",
       "}\n",
       "\n",
       "var viewer_16842108354335408 = null;\n",
       "var warn = document.getElementById(\"3dmolwarning_16842108354335408\");\n",
       "if(warn) {\n",
       "    warn.parentNode.removeChild(warn);\n",
       "}\n",
       "$3Dmolpromise.then(function() {\n",
       "viewer_16842108354335408 = $3Dmol.createViewer(document.getElementById(\"3dmolviewer_16842108354335408\"),{backgroundColor:\"white\"});\n",
       "viewer_16842108354335408.zoomTo();\n",
       "\tviewer_16842108354335408.addModel(\"\\n     RDKit          3D\\n\\n  8  7  0  0  0  0  0  0  0  0999 V2000\\n   -0.7558    0.0071   -0.0160 C   0  0  0  0  0  0  0  0  0  0  0  0\\n    0.7558   -0.0071    0.0160 C   0  0  0  0  0  0  0  0  0  0  0  0\\n   -1.1627   -0.1018    0.9937 H   0  0  0  0  0  0  0  0  0  0  0  0\\n   -1.1225    0.9487   -0.4356 H   0  0  0  0  0  0  0  0  0  0  0  0\\n   -1.1350   -0.8147   -0.6307 H   0  0  0  0  0  0  0  0  0  0  0  0\\n    1.1350    0.8148    0.6307 H   0  0  0  0  0  0  0  0  0  0  0  0\\n    1.1627    0.1018   -0.9937 H   0  0  0  0  0  0  0  0  0  0  0  0\\n    1.1226   -0.9487    0.4356 H   0  0  0  0  0  0  0  0  0  0  0  0\\n  1  2  1  0\\n  1  3  1  0\\n  1  4  1  0\\n  1  5  1  0\\n  2  6  1  0\\n  2  7  1  0\\n  2  8  1  0\\nM  END\\n\",\"mol\");\n",
       "\tviewer_16842108354335408.setStyle({\"stick\": {}});\n",
       "\tviewer_16842108354335408.zoomTo();\n",
       "viewer_16842108354335408.render();\n",
       "});\n",
       "</script>"
      ]
     },
     "metadata": {},
     "output_type": "display_data"
    }
   ],
   "source": [
    "from rdkit import Chem\n",
    "from rdkit.Chem import AllChem\n",
    "import py3Dmol\n",
    "\n",
    "def show(smi, style='stick'):\n",
    "    mol = Chem.MolFromSmiles(smi)\n",
    "    mol = Chem.AddHs(mol)\n",
    "    AllChem.EmbedMolecule(mol)\n",
    "    AllChem.MMFFOptimizeMolecule(mol, maxIters=200)\n",
    "    mblock = Chem.MolToMolBlock(mol)\n",
    "\n",
    "    view = py3Dmol.view(width=200, height=200)\n",
    "    view.addModel(mblock, 'mol')\n",
    "    view.setStyle({style:{}})\n",
    "    view.zoomTo()\n",
    "    view.show()\n",
    "    \n",
    "# example\n",
    "show('CC')  # or 'P'"
   ]
  },
  {
   "cell_type": "code",
   "execution_count": null,
   "metadata": {},
   "outputs": [],
   "source": []
  }
 ],
 "metadata": {
  "kernelspec": {
   "display_name": "py385",
   "language": "python",
   "name": "python3"
  },
  "language_info": {
   "codemirror_mode": {
    "name": "ipython",
    "version": 3
   },
   "file_extension": ".py",
   "mimetype": "text/x-python",
   "name": "python",
   "nbconvert_exporter": "python",
   "pygments_lexer": "ipython3",
   "version": "3.8.5"
  },
  "orig_nbformat": 4
 },
 "nbformat": 4,
 "nbformat_minor": 2
}
